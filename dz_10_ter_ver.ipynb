{
 "cells": [
  {
   "cell_type": "code",
   "execution_count": 1,
   "id": "54bacb85-f1cb-4438-bf04-d12c72968e77",
   "metadata": {},
   "outputs": [],
   "source": [
    "import numpy as np\n",
    "from scipy import stats\n",
    "import matplotlib.pyplot as plt"
   ]
  },
  {
   "cell_type": "code",
   "execution_count": 2,
   "id": "faed8d6e-5707-4da0-907e-54e93db362b1",
   "metadata": {},
   "outputs": [],
   "source": [
    "futbool = np.array([173,175,180,178,177,185,183,182])\n",
    "hockey = np.array([177,179,180,188,177,172,171,184,180])\n",
    "rod = np.array([172,173,169,177,166,180,178,177,172,166,170])"
   ]
  },
  {
   "cell_type": "code",
   "execution_count": 3,
   "id": "e1411ebb-2061-4226-b7d3-dde476f8d26b",
   "metadata": {},
   "outputs": [
    {
     "data": {
      "text/plain": [
       "(ShapiroResult(statistic=0.9775082468986511, pvalue=0.9495404362678528),\n",
       " ShapiroResult(statistic=0.9579196572303772, pvalue=0.7763139009475708),\n",
       " ShapiroResult(statistic=0.9386808276176453, pvalue=0.5051165223121643))"
      ]
     },
     "execution_count": 3,
     "metadata": {},
     "output_type": "execute_result"
    }
   ],
   "source": [
    "stats.shapiro(futbool), stats.shapiro(hockey), stats.shapiro(rod)"
   ]
  },
  {
   "cell_type": "code",
   "execution_count": null,
   "id": "d6e2aa51-a4d5-4381-8506-7b15ab7b0758",
   "metadata": {},
   "outputs": [],
   "source": [
    "#если pvalye >alfa, то есть нет нормального распределения"
   ]
  },
  {
   "cell_type": "code",
   "execution_count": null,
   "id": "a484e282-0631-404e-8e61-75b4c1eddc31",
   "metadata": {},
   "outputs": [],
   "source": [
    "# если множественные значения не зависимы, то используем \"kruskal\""
   ]
  },
  {
   "cell_type": "code",
   "execution_count": 4,
   "id": "a43b1bcc-b28a-4d39-8e79-01e1a3ad8f80",
   "metadata": {},
   "outputs": [
    {
     "data": {
      "text/plain": [
       "KruskalResult(statistic=7.897493213863828, pvalue=0.01927885061595347)"
      ]
     },
     "execution_count": 4,
     "metadata": {},
     "output_type": "execute_result"
    }
   ],
   "source": [
    "stats.kruskal(futbool,hockey,rod)"
   ]
  },
  {
   "cell_type": "code",
   "execution_count": null,
   "id": "14150af9-9276-4a80-8a6c-414bf7197041",
   "metadata": {},
   "outputs": [],
   "source": [
    "# так как pvalue достаточно большое значение, то можно сделать вывод, что есть не большие различия"
   ]
  },
  {
   "cell_type": "code",
   "execution_count": null,
   "id": "75c5fd8f-119c-42e9-afba-4ba26ca78dc7",
   "metadata": {},
   "outputs": [],
   "source": [
    "# выборка нормальная"
   ]
  },
  {
   "cell_type": "code",
   "execution_count": 6,
   "id": "6c018c7b-5055-41d3-bacc-3485d2fbcf2b",
   "metadata": {},
   "outputs": [
    {
     "data": {
      "text/plain": [
       "BartlettResult(statistic=0.4640521043406442, pvalue=0.7929254656083131)"
      ]
     },
     "execution_count": 6,
     "metadata": {},
     "output_type": "execute_result"
    }
   ],
   "source": [
    "stats.bartlett(futbool,hockey,rod)"
   ]
  },
  {
   "cell_type": "code",
   "execution_count": null,
   "id": "38c5a0b7-e30f-4efa-9a3f-c391046b1625",
   "metadata": {},
   "outputs": [],
   "source": [
    "# Дисперсионный анализ"
   ]
  },
  {
   "cell_type": "code",
   "execution_count": 7,
   "id": "25af8c88-7da9-4be1-ac8f-7e1123ea9568",
   "metadata": {},
   "outputs": [
    {
     "data": {
      "text/plain": [
       "F_onewayResult(statistic=5.500053450812596, pvalue=0.010482206918698694)"
      ]
     },
     "execution_count": 7,
     "metadata": {},
     "output_type": "execute_result"
    }
   ],
   "source": [
    "stats.f_oneway(futbool,hockey,rod)"
   ]
  },
  {
   "cell_type": "code",
   "execution_count": null,
   "id": "5a011eff-f202-4341-8b23-97449e15aa63",
   "metadata": {},
   "outputs": [],
   "source": [
    "# pvalue имеет не сильно маленькое значение, но меньше 1 - различия не значительны"
   ]
  }
 ],
 "metadata": {
  "kernelspec": {
   "display_name": "Python 3 (ipykernel)",
   "language": "python",
   "name": "python3"
  },
  "language_info": {
   "codemirror_mode": {
    "name": "ipython",
    "version": 3
   },
   "file_extension": ".py",
   "mimetype": "text/x-python",
   "name": "python",
   "nbconvert_exporter": "python",
   "pygments_lexer": "ipython3",
   "version": "3.9.13"
  },
  "vscode": {
   "interpreter": {
    "hash": "aee8b7b246df8f9039afb4144a1f6fd8d2ca17a180786b69acc140d282b71a49"
   }
  }
 },
 "nbformat": 4,
 "nbformat_minor": 5
}
